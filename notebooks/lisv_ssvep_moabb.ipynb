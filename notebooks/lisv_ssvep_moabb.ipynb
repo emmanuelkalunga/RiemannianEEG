{
 "cells": [
  {
   "cell_type": "code",
   "execution_count": 1,
   "metadata": {
    "collapsed": true
   },
   "outputs": [],
   "source": [
    "from moabb.contexts.ssvep import ExtentedSSVEP\n",
    "from pyriemann.estimation import Covariances\n",
    "from pyriemann.spatialfilters import CSP\n",
    "from sklearn.discriminant_analysis import LinearDiscriminantAnalysis as LDA\n",
    "from pyriemann.classification import TSclassifier, MDM\n",
    "from sklearn.pipeline import make_pipeline\n",
    "from collections import OrderedDict\n",
    "from moabb.datasets.lisv_ssvep import lisvSSVEP\n",
    "import pandas as pd\n",
    "import matplotlib.pyplot as plt \n",
    "%matplotlib inline\n",
    "\n",
    "import seaborn as sns\n",
    "sns.set(sns.plotting_context(\"talk\"), \n",
    "        palette=sns.color_palette('Blues', n_colors=4),\n",
    "        style=sns.axes_style(\"ticks\"))"
   ]
  },
  {
   "cell_type": "code",
   "execution_count": null,
   "metadata": {
    "collapsed": true
   },
   "outputs": [],
   "source": [
    "mean_methods = {'riemann': mean_riemann,\n",
    "                'logeuclid': mean_logeuclid,\n",
    "                'euclid': mean_euclid,\n",
    "                'identity': mean_identity,\n",
    "                'logdet': mean_logdet,\n",
    "                'wasserstein': mean_wasserstein,\n",
    "                'ale': mean_ale,\n",
    "                'harmonic': mean_harmonic,\n",
    "                'kullback_sym': mean_kullback_sym}"
   ]
  },
  {
   "cell_type": "code",
   "execution_count": 2,
   "metadata": {
    "collapsed": true
   },
   "outputs": [],
   "source": [
    "MDM?"
   ]
  },
  {
   "cell_type": "code",
   "execution_count": 5,
   "metadata": {
    "collapsed": true
   },
   "outputs": [],
   "source": [
    "datasets = [lisvSSVEP()]\n",
    "pipelines = OrderedDict()\n",
    "# pipelines['MDM'] = make_pipeline(Covariances('shaf'), MDM())\n",
    "# pipelines['TS'] = make_pipeline(Covariances('shaf'), TSclassifier())\n",
    "# pipelines['CSP+LDA'] = make_pipeline(Covariances('shaf'), CSP(12), LDA())\n",
    "pipelines['MDM-AIR'] = make_pipeline(Covariances('shaf'), MDM('riemann'))\n",
    "pipelines['MDM-LE'] = make_pipeline(Covariances('shaf'), MDM('logeuclid'))\n",
    "pipelines['MDM-E'] = make_pipeline(Covariances('shaf'), MDM('euclid'))\n",
    "pipelines['MDM-LD'] = make_pipeline(Covariances('shaf'), MDM('logdet'))\n",
    "pipelines['MDM-W'] = make_pipeline(Covariances('shaf'), MDM('wasserstein'))\n",
    "pipelines['MDM-H'] = make_pipeline(Covariances('shaf'), MDM({'mean':'harmonic', 'distance':'euclid'}))\n",
    "context = ExtentedSSVEP(datasets=datasets, pipelines=pipelines, frequencies=[13.0, 17.0, 21.0])"
   ]
  },
  {
   "cell_type": "code",
   "execution_count": 6,
   "metadata": {
    "scrolled": true
   },
   "outputs": [
    {
     "name": "stdout",
     "output_type": "stream",
     "text": [
      "32 matching events found\n",
      "32 matching events found\n",
      "64 matching events found\n",
      "[0.734375, 'lisv exoskeleton ssvep', 1, 'MDM-AIR', 0.26024794578552246]\n",
      "[0.71875, 'lisv exoskeleton ssvep', 1, 'MDM-LE', 0.19354701042175293]\n",
      "[0.53125, 'lisv exoskeleton ssvep', 1, 'MDM-E', 0.10498309135437012]\n",
      "[0.25, 'lisv exoskeleton ssvep', 1, 'MDM-LD', 0.12377405166625977]\n"
     ]
    },
    {
     "name": "stderr",
     "output_type": "stream",
     "text": [
      "/Users/emmanuelkalunga/Documents/School/EEG_covariance_classification/pyRiemann/pyriemann/utils/distance.py:92: RuntimeWarning: divide by zero encountered in log\n",
      "  numpy.log(numpy.linalg.det(A)*numpy.linalg.det(B)))\n",
      "/Users/emmanuelkalunga/Documents/School/EEG_covariance_classification/pyRiemann/pyriemann/utils/distance.py:92: RuntimeWarning: divide by zero encountered in log\n",
      "  numpy.log(numpy.linalg.det(A)*numpy.linalg.det(B)))\n"
     ]
    },
    {
     "name": "stdout",
     "output_type": "stream",
     "text": [
      "[0.5625, 'lisv exoskeleton ssvep', 1, 'MDM-W', 0.19596600532531738]\n",
      "[0.484375, 'lisv exoskeleton ssvep', 1, 'MDM-H', 0.10027694702148438]\n",
      "32 matching events found\n",
      "32 matching events found\n",
      "64 matching events found\n",
      "[0.796875, 'lisv exoskeleton ssvep', 2, 'MDM-AIR', 0.26194000244140625]\n",
      "[0.78125, 'lisv exoskeleton ssvep', 2, 'MDM-LE', 0.19704127311706543]\n",
      "[0.4375, 'lisv exoskeleton ssvep', 2, 'MDM-E', 0.10379886627197266]\n",
      "[0.25, 'lisv exoskeleton ssvep', 2, 'MDM-LD', 0.11776304244995117]\n"
     ]
    },
    {
     "name": "stderr",
     "output_type": "stream",
     "text": [
      "/Users/emmanuelkalunga/Documents/School/EEG_covariance_classification/pyRiemann/pyriemann/utils/distance.py:92: RuntimeWarning: divide by zero encountered in log\n",
      "  numpy.log(numpy.linalg.det(A)*numpy.linalg.det(B)))\n",
      "/Users/emmanuelkalunga/Documents/School/EEG_covariance_classification/pyRiemann/pyriemann/utils/distance.py:92: RuntimeWarning: divide by zero encountered in log\n",
      "  numpy.log(numpy.linalg.det(A)*numpy.linalg.det(B)))\n"
     ]
    },
    {
     "name": "stdout",
     "output_type": "stream",
     "text": [
      "[0.5, 'lisv exoskeleton ssvep', 2, 'MDM-W', 0.19963407516479492]\n",
      "[0.3125, 'lisv exoskeleton ssvep', 2, 'MDM-H', 0.10669994354248047]\n",
      "32 matching events found\n",
      "32 matching events found\n",
      "64 matching events found\n",
      "[0.859375, 'lisv exoskeleton ssvep', 3, 'MDM-AIR', 0.26264500617980957]\n",
      "[0.859375, 'lisv exoskeleton ssvep', 3, 'MDM-LE', 0.18858814239501953]\n",
      "[0.671875, 'lisv exoskeleton ssvep', 3, 'MDM-E', 0.10063004493713379]\n",
      "[0.25, 'lisv exoskeleton ssvep', 3, 'MDM-LD', 0.11704611778259277]\n"
     ]
    },
    {
     "name": "stderr",
     "output_type": "stream",
     "text": [
      "/Users/emmanuelkalunga/Documents/School/EEG_covariance_classification/pyRiemann/pyriemann/utils/distance.py:92: RuntimeWarning: divide by zero encountered in log\n",
      "  numpy.log(numpy.linalg.det(A)*numpy.linalg.det(B)))\n",
      "/Users/emmanuelkalunga/Documents/School/EEG_covariance_classification/pyRiemann/pyriemann/utils/distance.py:92: RuntimeWarning: divide by zero encountered in log\n",
      "  numpy.log(numpy.linalg.det(A)*numpy.linalg.det(B)))\n"
     ]
    },
    {
     "name": "stdout",
     "output_type": "stream",
     "text": [
      "[0.75, 'lisv exoskeleton ssvep', 3, 'MDM-W', 0.2060108184814453]\n",
      "[0.671875, 'lisv exoskeleton ssvep', 3, 'MDM-H', 0.1060328483581543]\n",
      "32 matching events found\n",
      "32 matching events found\n",
      "64 matching events found\n",
      "[0.875, 'lisv exoskeleton ssvep', 4, 'MDM-AIR', 0.26302313804626465]\n",
      "[0.84375, 'lisv exoskeleton ssvep', 4, 'MDM-LE', 0.19564509391784668]\n",
      "[0.546875, 'lisv exoskeleton ssvep', 4, 'MDM-E', 0.10278201103210449]\n",
      "[0.25, 'lisv exoskeleton ssvep', 4, 'MDM-LD', 0.12178206443786621]\n"
     ]
    },
    {
     "name": "stderr",
     "output_type": "stream",
     "text": [
      "/Users/emmanuelkalunga/Documents/School/EEG_covariance_classification/pyRiemann/pyriemann/utils/distance.py:92: RuntimeWarning: divide by zero encountered in log\n",
      "  numpy.log(numpy.linalg.det(A)*numpy.linalg.det(B)))\n",
      "/Users/emmanuelkalunga/Documents/School/EEG_covariance_classification/pyRiemann/pyriemann/utils/distance.py:92: RuntimeWarning: divide by zero encountered in log\n",
      "  numpy.log(numpy.linalg.det(A)*numpy.linalg.det(B)))\n"
     ]
    },
    {
     "name": "stdout",
     "output_type": "stream",
     "text": [
      "[0.640625, 'lisv exoskeleton ssvep', 4, 'MDM-W', 0.20575165748596191]\n",
      "[0.421875, 'lisv exoskeleton ssvep', 4, 'MDM-H', 0.10339784622192383]\n",
      "32 matching events found\n",
      "32 matching events found\n",
      "64 matching events found\n",
      "[0.6875, 'lisv exoskeleton ssvep', 5, 'MDM-AIR', 0.2663438320159912]\n",
      "[0.625, 'lisv exoskeleton ssvep', 5, 'MDM-LE', 0.1914379596710205]\n",
      "[0.375, 'lisv exoskeleton ssvep', 5, 'MDM-E', 0.10401678085327148]\n",
      "[0.25, 'lisv exoskeleton ssvep', 5, 'MDM-LD', 0.11890816688537598]\n"
     ]
    },
    {
     "name": "stderr",
     "output_type": "stream",
     "text": [
      "/Users/emmanuelkalunga/Documents/School/EEG_covariance_classification/pyRiemann/pyriemann/utils/distance.py:92: RuntimeWarning: divide by zero encountered in log\n",
      "  numpy.log(numpy.linalg.det(A)*numpy.linalg.det(B)))\n",
      "/Users/emmanuelkalunga/Documents/School/EEG_covariance_classification/pyRiemann/pyriemann/utils/distance.py:92: RuntimeWarning: divide by zero encountered in log\n",
      "  numpy.log(numpy.linalg.det(A)*numpy.linalg.det(B)))\n"
     ]
    },
    {
     "name": "stdout",
     "output_type": "stream",
     "text": [
      "[0.453125, 'lisv exoskeleton ssvep', 5, 'MDM-W', 0.20962786674499512]\n",
      "[0.265625, 'lisv exoskeleton ssvep', 5, 'MDM-H', 0.11005806922912598]\n",
      "32 matching events found\n",
      "32 matching events found\n",
      "64 matching events found\n",
      "[0.859375, 'lisv exoskeleton ssvep', 6, 'MDM-AIR', 0.26646900177001953]\n",
      "[0.84375, 'lisv exoskeleton ssvep', 6, 'MDM-LE', 0.18988418579101562]\n",
      "[0.34375, 'lisv exoskeleton ssvep', 6, 'MDM-E', 0.10626506805419922]\n",
      "[0.25, 'lisv exoskeleton ssvep', 6, 'MDM-LD', 0.12288284301757812]\n"
     ]
    },
    {
     "name": "stderr",
     "output_type": "stream",
     "text": [
      "/Users/emmanuelkalunga/Documents/School/EEG_covariance_classification/pyRiemann/pyriemann/utils/distance.py:92: RuntimeWarning: divide by zero encountered in log\n",
      "  numpy.log(numpy.linalg.det(A)*numpy.linalg.det(B)))\n",
      "/Users/emmanuelkalunga/Documents/School/EEG_covariance_classification/pyRiemann/pyriemann/utils/distance.py:92: RuntimeWarning: divide by zero encountered in log\n",
      "  numpy.log(numpy.linalg.det(A)*numpy.linalg.det(B)))\n"
     ]
    },
    {
     "name": "stdout",
     "output_type": "stream",
     "text": [
      "[0.53125, 'lisv exoskeleton ssvep', 6, 'MDM-W', 0.19974923133850098]\n",
      "[0.390625, 'lisv exoskeleton ssvep', 6, 'MDM-H', 0.1038351058959961]\n",
      "32 matching events found\n",
      "32 matching events found\n",
      "32 matching events found\n",
      "96 matching events found\n",
      "[0.88541666666666663, 'lisv exoskeleton ssvep', 7, 'MDM-AIR', 0.6476521492004395]\n",
      "[0.875, 'lisv exoskeleton ssvep', 7, 'MDM-LE', 0.37618398666381836]\n",
      "[0.60416666666666663, 'lisv exoskeleton ssvep', 7, 'MDM-E', 0.23367691040039062]\n"
     ]
    },
    {
     "name": "stderr",
     "output_type": "stream",
     "text": [
      "/Users/emmanuelkalunga/Documents/School/EEG_covariance_classification/pyRiemann/pyriemann/utils/distance.py:92: RuntimeWarning: divide by zero encountered in log\n",
      "  numpy.log(numpy.linalg.det(A)*numpy.linalg.det(B)))\n",
      "/Users/emmanuelkalunga/Documents/School/EEG_covariance_classification/pyRiemann/pyriemann/utils/distance.py:92: RuntimeWarning: divide by zero encountered in log\n",
      "  numpy.log(numpy.linalg.det(A)*numpy.linalg.det(B)))\n",
      "/Users/emmanuelkalunga/Documents/School/EEG_covariance_classification/pyRiemann/pyriemann/utils/distance.py:92: RuntimeWarning: divide by zero encountered in log\n",
      "  numpy.log(numpy.linalg.det(A)*numpy.linalg.det(B)))\n"
     ]
    },
    {
     "name": "stdout",
     "output_type": "stream",
     "text": [
      "[0.25, 'lisv exoskeleton ssvep', 7, 'MDM-LD', 0.2674520015716553]\n",
      "[0.67708333333333337, 'lisv exoskeleton ssvep', 7, 'MDM-W', 0.4174010753631592]\n",
      "[0.47916666666666669, 'lisv exoskeleton ssvep', 7, 'MDM-H', 0.2425839900970459]\n",
      "32 matching events found\n",
      "32 matching events found\n",
      "32 matching events found\n",
      "96 matching events found\n",
      "[0.86458333333333337, 'lisv exoskeleton ssvep', 8, 'MDM-AIR', 0.6134960651397705]\n",
      "[0.875, 'lisv exoskeleton ssvep', 8, 'MDM-LE', 0.39389896392822266]\n",
      "[0.66666666666666663, 'lisv exoskeleton ssvep', 8, 'MDM-E', 0.23997282981872559]\n"
     ]
    },
    {
     "name": "stderr",
     "output_type": "stream",
     "text": [
      "/Users/emmanuelkalunga/Documents/School/EEG_covariance_classification/pyRiemann/pyriemann/utils/distance.py:92: RuntimeWarning: divide by zero encountered in log\n",
      "  numpy.log(numpy.linalg.det(A)*numpy.linalg.det(B)))\n",
      "/Users/emmanuelkalunga/Documents/School/EEG_covariance_classification/pyRiemann/pyriemann/utils/distance.py:92: RuntimeWarning: divide by zero encountered in log\n",
      "  numpy.log(numpy.linalg.det(A)*numpy.linalg.det(B)))\n",
      "/Users/emmanuelkalunga/Documents/School/EEG_covariance_classification/pyRiemann/pyriemann/utils/distance.py:92: RuntimeWarning: divide by zero encountered in log\n",
      "  numpy.log(numpy.linalg.det(A)*numpy.linalg.det(B)))\n"
     ]
    },
    {
     "name": "stdout",
     "output_type": "stream",
     "text": [
      "[0.25, 'lisv exoskeleton ssvep', 8, 'MDM-LD', 0.258533239364624]\n",
      "[0.77083333333333337, 'lisv exoskeleton ssvep', 8, 'MDM-W', 0.4007391929626465]\n",
      "[0.64583333333333337, 'lisv exoskeleton ssvep', 8, 'MDM-H', 0.2399308681488037]\n",
      "32 matching events found\n",
      "32 matching events found\n",
      "64 matching events found\n",
      "[0.703125, 'lisv exoskeleton ssvep', 9, 'MDM-AIR', 0.2665081024169922]\n",
      "[0.703125, 'lisv exoskeleton ssvep', 9, 'MDM-LE', 0.19578981399536133]\n",
      "[0.578125, 'lisv exoskeleton ssvep', 9, 'MDM-E', 0.108734130859375]\n",
      "[0.25, 'lisv exoskeleton ssvep', 9, 'MDM-LD', 0.1205892562866211]\n"
     ]
    },
    {
     "name": "stderr",
     "output_type": "stream",
     "text": [
      "/Users/emmanuelkalunga/Documents/School/EEG_covariance_classification/pyRiemann/pyriemann/utils/distance.py:92: RuntimeWarning: divide by zero encountered in log\n",
      "  numpy.log(numpy.linalg.det(A)*numpy.linalg.det(B)))\n",
      "/Users/emmanuelkalunga/Documents/School/EEG_covariance_classification/pyRiemann/pyriemann/utils/distance.py:92: RuntimeWarning: divide by zero encountered in log\n",
      "  numpy.log(numpy.linalg.det(A)*numpy.linalg.det(B)))\n"
     ]
    },
    {
     "name": "stdout",
     "output_type": "stream",
     "text": [
      "[0.59375, 'lisv exoskeleton ssvep', 9, 'MDM-W', 0.1961820125579834]\n",
      "[0.421875, 'lisv exoskeleton ssvep', 9, 'MDM-H', 0.10324692726135254]\n",
      "32 matching events found\n",
      "32 matching events found\n",
      "32 matching events found\n",
      "32 matching events found\n",
      "32 matching events found\n",
      "32 matching events found\n",
      "192 matching events found\n",
      "[0.72916666666666663, 'lisv exoskeleton ssvep', 10, 'MDM-AIR', 2.4420111179351807]\n",
      "[0.73958333333333337, 'lisv exoskeleton ssvep', 10, 'MDM-LE', 1.2784619331359863]\n",
      "[0.39583333333333331, 'lisv exoskeleton ssvep', 10, 'MDM-E', 0.9021120071411133]\n"
     ]
    },
    {
     "name": "stderr",
     "output_type": "stream",
     "text": [
      "/Users/emmanuelkalunga/Documents/School/EEG_covariance_classification/pyRiemann/pyriemann/utils/distance.py:92: RuntimeWarning: divide by zero encountered in log\n",
      "  numpy.log(numpy.linalg.det(A)*numpy.linalg.det(B)))\n",
      "/Users/emmanuelkalunga/Documents/School/EEG_covariance_classification/pyRiemann/pyriemann/utils/distance.py:92: RuntimeWarning: divide by zero encountered in log\n",
      "  numpy.log(numpy.linalg.det(A)*numpy.linalg.det(B)))\n",
      "/Users/emmanuelkalunga/Documents/School/EEG_covariance_classification/pyRiemann/pyriemann/utils/distance.py:92: RuntimeWarning: divide by zero encountered in log\n",
      "  numpy.log(numpy.linalg.det(A)*numpy.linalg.det(B)))\n",
      "/Users/emmanuelkalunga/Documents/School/EEG_covariance_classification/pyRiemann/pyriemann/utils/distance.py:92: RuntimeWarning: divide by zero encountered in log\n",
      "  numpy.log(numpy.linalg.det(A)*numpy.linalg.det(B)))\n",
      "/Users/emmanuelkalunga/Documents/School/EEG_covariance_classification/pyRiemann/pyriemann/utils/distance.py:92: RuntimeWarning: divide by zero encountered in log\n",
      "  numpy.log(numpy.linalg.det(A)*numpy.linalg.det(B)))\n",
      "/Users/emmanuelkalunga/Documents/School/EEG_covariance_classification/pyRiemann/pyriemann/utils/distance.py:92: RuntimeWarning: divide by zero encountered in log\n",
      "  numpy.log(numpy.linalg.det(A)*numpy.linalg.det(B)))\n"
     ]
    },
    {
     "name": "stdout",
     "output_type": "stream",
     "text": [
      "[0.25, 'lisv exoskeleton ssvep', 10, 'MDM-LD', 0.973010778427124]\n",
      "[0.48958333333333331, 'lisv exoskeleton ssvep', 10, 'MDM-W', 1.2979319095611572]\n",
      "[0.375, 'lisv exoskeleton ssvep', 10, 'MDM-H', 0.9160261154174805]\n",
      "32 matching events found\n",
      "32 matching events found\n",
      "32 matching events found\n",
      "32 matching events found\n",
      "128 matching events found\n",
      "[0.6015625, 'lisv exoskeleton ssvep', 11, 'MDM-AIR', 1.0862572193145752]\n",
      "[0.578125, 'lisv exoskeleton ssvep', 11, 'MDM-LE', 0.6196789741516113]\n",
      "[0.40625, 'lisv exoskeleton ssvep', 11, 'MDM-E', 0.40420103073120117]\n"
     ]
    },
    {
     "name": "stderr",
     "output_type": "stream",
     "text": [
      "/Users/emmanuelkalunga/Documents/School/EEG_covariance_classification/pyRiemann/pyriemann/utils/distance.py:92: RuntimeWarning: divide by zero encountered in log\n",
      "  numpy.log(numpy.linalg.det(A)*numpy.linalg.det(B)))\n",
      "/Users/emmanuelkalunga/Documents/School/EEG_covariance_classification/pyRiemann/pyriemann/utils/distance.py:92: RuntimeWarning: divide by zero encountered in log\n",
      "  numpy.log(numpy.linalg.det(A)*numpy.linalg.det(B)))\n",
      "/Users/emmanuelkalunga/Documents/School/EEG_covariance_classification/pyRiemann/pyriemann/utils/distance.py:92: RuntimeWarning: divide by zero encountered in log\n",
      "  numpy.log(numpy.linalg.det(A)*numpy.linalg.det(B)))\n",
      "/Users/emmanuelkalunga/Documents/School/EEG_covariance_classification/pyRiemann/pyriemann/utils/distance.py:92: RuntimeWarning: divide by zero encountered in log\n",
      "  numpy.log(numpy.linalg.det(A)*numpy.linalg.det(B)))\n"
     ]
    },
    {
     "name": "stdout",
     "output_type": "stream",
     "text": [
      "[0.25, 'lisv exoskeleton ssvep', 11, 'MDM-LD', 0.43907928466796875]\n",
      "[0.4140625, 'lisv exoskeleton ssvep', 11, 'MDM-W', 0.6411991119384766]\n",
      "[0.34375, 'lisv exoskeleton ssvep', 11, 'MDM-H', 0.41489696502685547]\n",
      "32 matching events found\n",
      "32 matching events found\n",
      "32 matching events found\n",
      "32 matching events found\n",
      "32 matching events found\n",
      "160 matching events found\n",
      "[0.96875, 'lisv exoskeleton ssvep', 12, 'MDM-AIR', 1.6906461715698242]\n",
      "[0.96250000000000002, 'lisv exoskeleton ssvep', 12, 'MDM-LE', 0.915241003036499]\n",
      "[0.71250000000000002, 'lisv exoskeleton ssvep', 12, 'MDM-E', 0.6273870468139648]\n"
     ]
    },
    {
     "name": "stderr",
     "output_type": "stream",
     "text": [
      "/Users/emmanuelkalunga/Documents/School/EEG_covariance_classification/pyRiemann/pyriemann/utils/distance.py:92: RuntimeWarning: divide by zero encountered in log\n",
      "  numpy.log(numpy.linalg.det(A)*numpy.linalg.det(B)))\n",
      "/Users/emmanuelkalunga/Documents/School/EEG_covariance_classification/pyRiemann/pyriemann/utils/distance.py:92: RuntimeWarning: divide by zero encountered in log\n",
      "  numpy.log(numpy.linalg.det(A)*numpy.linalg.det(B)))\n",
      "/Users/emmanuelkalunga/Documents/School/EEG_covariance_classification/pyRiemann/pyriemann/utils/distance.py:92: RuntimeWarning: divide by zero encountered in log\n",
      "  numpy.log(numpy.linalg.det(A)*numpy.linalg.det(B)))\n",
      "/Users/emmanuelkalunga/Documents/School/EEG_covariance_classification/pyRiemann/pyriemann/utils/distance.py:92: RuntimeWarning: divide by zero encountered in log\n",
      "  numpy.log(numpy.linalg.det(A)*numpy.linalg.det(B)))\n",
      "/Users/emmanuelkalunga/Documents/School/EEG_covariance_classification/pyRiemann/pyriemann/utils/distance.py:92: RuntimeWarning: divide by zero encountered in log\n",
      "  numpy.log(numpy.linalg.det(A)*numpy.linalg.det(B)))\n"
     ]
    },
    {
     "name": "stdout",
     "output_type": "stream",
     "text": [
      "[0.25, 'lisv exoskeleton ssvep', 12, 'MDM-LD', 0.6766548156738281]\n",
      "[0.81874999999999998, 'lisv exoskeleton ssvep', 12, 'MDM-W', 0.9301199913024902]\n",
      "[0.53749999999999998, 'lisv exoskeleton ssvep', 12, 'MDM-H', 0.6497108936309814]\n"
     ]
    }
   ],
   "source": [
    "results = context.evaluate(verbose=True)"
   ]
  },
  {
   "cell_type": "code",
   "execution_count": 11,
   "metadata": {},
   "outputs": [
    {
     "data": {
      "image/png": "[encoded data removed]",
      "text/plain": [
       "<matplotlib.figure.Figure at 0x1123b3d68>"
      ]
     },
     "metadata": {},
     "output_type": "display_data"
    }
   ],
   "source": [
    "results_pd = pd.concat(results, ignore_index=True)\n",
    "sns.barplot(y='Pipeline', x='Score', data=results_pd)\n",
    "plt.xlim(0.5, 0.9);"
   ]
  },
  {
   "cell_type": "code",
   "execution_count": 12,
   "metadata": {},
   "outputs": [
    {
     "data": {
      "image/png": "[encoded data removed]",
      "text/plain": [
       "<matplotlib.figure.Figure at 0x10c3f4fd0>"
      ]
     },
     "metadata": {},
     "output_type": "display_data"
    }
   ],
   "source": [
    "g = sns.barplot(x='Subject', y='Score', data=results_pd, hue='Pipeline', palette=sns.color_palette('Blues', 3))\n",
    "g.set_ylim(0.3,1)\n",
    "plt.xticks(rotation=-25)\n",
    "plt.legend(loc='upper right')\n",
    "plt.tight_layout()"
   ]
  },
  {
   "cell_type": "code",
   "execution_count": null,
   "metadata": {
    "collapsed": true
   },
   "outputs": [],
   "source": []
  }
 ],
 "metadata": {
  "kernelspec": {
   "display_name": "Python 3",
   "language": "python",
   "name": "python3"
  },
  "language_info": {
   "codemirror_mode": {
    "name": "ipython",
    "version": 3
   },
   "file_extension": ".py",
   "mimetype": "text/x-python",
   "name": "python",
   "nbconvert_exporter": "python",
   "pygments_lexer": "ipython3",
   "version": "3.6.2"
  }
 },
 "nbformat": 4,
 "nbformat_minor": 2
}

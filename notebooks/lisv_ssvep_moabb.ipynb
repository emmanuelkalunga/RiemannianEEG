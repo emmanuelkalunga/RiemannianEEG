{
 "cells": [
  {
   "cell_type": "code",
   "execution_count": 1,
   "metadata": {
    "collapsed": true
   },
   "outputs": [],
   "source": [
    "from moabb.contexts.ssvep import ExtentedSSVEP\n",
    "from pyriemann.estimation import Covariances\n",
    "from pyriemann.spatialfilters import CSP\n",
    "from sklearn.discriminant_analysis import LinearDiscriminantAnalysis as LDA\n",
    "from pyriemann.classification import TSclassifier, MDM\n",
    "from sklearn.pipeline import make_pipeline\n",
    "from collections import OrderedDict\n",
    "from moabb.datasets.lisv_ssvep import lisvSSVEP\n",
    "import pandas as pd\n",
    "import matplotlib.pyplot as plt \n",
    "%matplotlib inline\n",
    "\n",
    "import seaborn as sns\n",
    "sns.set(sns.plotting_context(\"talk\"), \n",
    "        palette=sns.color_palette('Blues', n_colors=4),\n",
    "        style=sns.axes_style(\"ticks\"))"
   ]
  },
  {
   "cell_type": "code",
   "execution_count": 10,
   "metadata": {
    "collapsed": true
   },
   "outputs": [],
   "source": [
    "datasets = [lisvSSVEP()]\n",
    "pipelines = OrderedDict()\n",
    "pipelines['MDM'] = make_pipeline(Covariances('shaf'), MDM())\n",
    "pipelines['TS'] = make_pipeline(Covariances('shaf'), TSclassifier())\n",
    "pipelines['CSP+LDA'] = make_pipeline(Covariances('shaf'), CSP(12), LDA())\n",
    "context = ExtentedSSVEP(datasets=datasets, pipelines=pipelines, frequencies=[13.0, 17.0, 21.0])"
   ]
  },
  {
   "cell_type": "code",
   "execution_count": 11,
   "metadata": {
    "scrolled": true
   },
   "outputs": [
    {
     "name": "stdout",
     "output_type": "stream",
     "text": [
      "32 matching events found\n",
      "32 matching events found\n",
      "64 matching events found\n",
      "[0.734375, 'lisv exoskeleton ssvep', 1, 'MDM', 0.24169397354125977]\n",
      "[0.609375, 'lisv exoskeleton ssvep', 1, 'TS', 0.21030306816101074]\n",
      "[0.546875, 'lisv exoskeleton ssvep', 1, 'CSP+LDA', 1.0993320941925049]\n",
      "32 matching events found\n",
      "32 matching events found\n",
      "64 matching events found\n",
      "[0.796875, 'lisv exoskeleton ssvep', 2, 'MDM', 0.2707481384277344]\n",
      "[0.765625, 'lisv exoskeleton ssvep', 2, 'TS', 0.24738001823425293]\n",
      "[0.6875, 'lisv exoskeleton ssvep', 2, 'CSP+LDA', 0.877269983291626]\n",
      "32 matching events found\n",
      "32 matching events found\n",
      "64 matching events found\n",
      "[0.859375, 'lisv exoskeleton ssvep', 3, 'MDM', 0.23851490020751953]\n",
      "[0.9375, 'lisv exoskeleton ssvep', 3, 'TS', 0.23169589042663574]\n",
      "[0.65625, 'lisv exoskeleton ssvep', 3, 'CSP+LDA', 1.054089069366455]\n",
      "32 matching events found\n",
      "32 matching events found\n",
      "64 matching events found\n",
      "[0.875, 'lisv exoskeleton ssvep', 4, 'MDM', 0.2574789524078369]\n",
      "[0.84375, 'lisv exoskeleton ssvep', 4, 'TS', 0.22649288177490234]\n",
      "[0.65625, 'lisv exoskeleton ssvep', 4, 'CSP+LDA', 1.000943899154663]\n",
      "32 matching events found\n",
      "32 matching events found\n",
      "64 matching events found\n",
      "[0.6875, 'lisv exoskeleton ssvep', 5, 'MDM', 0.2502720355987549]\n",
      "[0.625, 'lisv exoskeleton ssvep', 5, 'TS', 0.21638917922973633]\n",
      "[0.453125, 'lisv exoskeleton ssvep', 5, 'CSP+LDA', 1.145747423171997]\n",
      "32 matching events found\n",
      "32 matching events found\n",
      "64 matching events found\n",
      "[0.859375, 'lisv exoskeleton ssvep', 6, 'MDM', 0.23822689056396484]\n",
      "[0.828125, 'lisv exoskeleton ssvep', 6, 'TS', 0.20850872993469238]\n",
      "[0.78125, 'lisv exoskeleton ssvep', 6, 'CSP+LDA', 1.1777091026306152]\n",
      "32 matching events found\n",
      "32 matching events found\n",
      "32 matching events found\n",
      "96 matching events found\n",
      "[0.88541666666666663, 'lisv exoskeleton ssvep', 7, 'MDM', 0.5928382873535156]\n",
      "[0.90625, 'lisv exoskeleton ssvep', 7, 'TS', 0.5692131519317627]\n",
      "[0.83333333333333337, 'lisv exoskeleton ssvep', 7, 'CSP+LDA', 1.353297233581543]\n",
      "32 matching events found\n",
      "32 matching events found\n",
      "32 matching events found\n",
      "96 matching events found\n",
      "[0.86458333333333337, 'lisv exoskeleton ssvep', 8, 'MDM', 0.5499520301818848]\n",
      "[0.92708333333333337, 'lisv exoskeleton ssvep', 8, 'TS', 0.5882890224456787]\n",
      "[0.8125, 'lisv exoskeleton ssvep', 8, 'CSP+LDA', 1.4981989860534668]\n",
      "32 matching events found\n",
      "32 matching events found\n",
      "64 matching events found\n",
      "[0.703125, 'lisv exoskeleton ssvep', 9, 'MDM', 0.24109268188476562]\n",
      "[0.6875, 'lisv exoskeleton ssvep', 9, 'TS', 0.21892404556274414]\n",
      "[0.40625, 'lisv exoskeleton ssvep', 9, 'CSP+LDA', 0.8385670185089111]\n",
      "32 matching events found\n",
      "32 matching events found\n",
      "32 matching events found\n",
      "32 matching events found\n",
      "32 matching events found\n",
      "32 matching events found\n",
      "192 matching events found\n",
      "[0.72916666666666663, 'lisv exoskeleton ssvep', 10, 'MDM', 2.3243567943573]\n",
      "[0.66666666666666663, 'lisv exoskeleton ssvep', 10, 'TS', 2.4732680320739746]\n",
      "[0.66145833333333337, 'lisv exoskeleton ssvep', 10, 'CSP+LDA', 2.9654321670532227]\n",
      "32 matching events found\n",
      "32 matching events found\n",
      "32 matching events found\n",
      "32 matching events found\n",
      "128 matching events found\n",
      "[0.6015625, 'lisv exoskeleton ssvep', 11, 'MDM', 0.9962410926818848]\n",
      "[0.5625, 'lisv exoskeleton ssvep', 11, 'TS', 0.9884858131408691]\n",
      "[0.5, 'lisv exoskeleton ssvep', 11, 'CSP+LDA', 2.118306875228882]\n",
      "32 matching events found\n",
      "32 matching events found\n",
      "32 matching events found\n",
      "32 matching events found\n",
      "32 matching events found\n",
      "160 matching events found\n",
      "[0.96875, 'lisv exoskeleton ssvep', 12, 'MDM', 1.529329776763916]\n",
      "[0.9375, 'lisv exoskeleton ssvep', 12, 'TS', 1.8092410564422607]\n",
      "[0.63124999999999998, 'lisv exoskeleton ssvep', 12, 'CSP+LDA', 2.07973313331604]\n"
     ]
    }
   ],
   "source": [
    "results = context.evaluate(verbose=True)"
   ]
  },
  {
   "cell_type": "code",
   "execution_count": 12,
   "metadata": {},
   "outputs": [
    {
     "data": {
      "image/png": "[encoded data removed]",
      "text/plain": [
       "<matplotlib.figure.Figure at 0x10ef952e8>"
      ]
     },
     "metadata": {},
     "output_type": "display_data"
    }
   ],
   "source": [
    "results_pd = pd.concat(results, ignore_index=True)\n",
    "sns.barplot(y='Pipeline', x='Score', data=results_pd)\n",
    "plt.xlim(0.5, 0.9);"
   ]
  },
  {
   "cell_type": "code",
   "execution_count": 24,
   "metadata": {},
   "outputs": [
    {
     "data": {
      "image/png": "[encoded data removed]",
      "text/plain": [
       "<matplotlib.figure.Figure at 0x115165ac8>"
      ]
     },
     "metadata": {},
     "output_type": "display_data"
    }
   ],
   "source": [
    "g = sns.barplot(x='Subject', y='Score', data=results_pd, hue='Pipeline', palette=sns.color_palette('Blues', 3))\n",
    "g.set_ylim(0.3,1)\n",
    "plt.xticks(rotation=-25)\n",
    "plt.legend(loc='upper right')\n",
    "plt.tight_layout()"
   ]
  },
  {
   "cell_type": "code",
   "execution_count": null,
   "metadata": {
    "collapsed": true
   },
   "outputs": [],
   "source": []
  }
 ],
 "metadata": {
  "kernelspec": {
   "display_name": "Python 3",
   "language": "python",
   "name": "python3"
  },
  "language_info": {
   "codemirror_mode": {
    "name": "ipython",
    "version": 3
   },
   "file_extension": ".py",
   "mimetype": "text/x-python",
   "name": "python",
   "nbconvert_exporter": "python",
   "pygments_lexer": "ipython3",
   "version": "3.6.2"
  }
 },
 "nbformat": 4,
 "nbformat_minor": 2
}

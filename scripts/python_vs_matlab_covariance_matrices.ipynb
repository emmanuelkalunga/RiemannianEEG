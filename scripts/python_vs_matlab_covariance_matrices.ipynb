{
 "cells": [
  {
   "cell_type": "code",
   "execution_count": 1,
   "metadata": {},
   "outputs": [],
   "source": [
    "from __future__ import print_function\n",
    "from numpy import nan_to_num, array, empty_like, empty, vstack, concatenate, linspace, tile\n",
    "import numpy as np\n",
    "from scipy.signal import filtfilt, butter, buttord\n",
    "import matplotlib.pyplot as plt\n",
    "from pyriemann.estimation import Covariances\n",
    "import pickle\n",
    "import gzip\n",
    "import os\n",
    "import importlib\n",
    "import sys\n",
    "from pyriemann.utils import distance\n",
    "from pyriemann.utils import mean\n",
    "from collections import defaultdict"
   ]
  },
  {
   "cell_type": "code",
   "execution_count": 2,
   "metadata": {
    "collapsed": true
   },
   "outputs": [],
   "source": [
    "from pyriemann import classification\n",
    "from sklearn.model_selection import cross_val_score"
   ]
  },
  {
   "cell_type": "code",
   "execution_count": 3,
   "metadata": {
    "collapsed": true
   },
   "outputs": [],
   "source": [
    "%matplotlib inline"
   ]
  },
  {
   "cell_type": "markdown",
   "metadata": {},
   "source": [
    "# Covariance matrices: Matlab processed versus Python processed"
   ]
  },
  {
   "cell_type": "markdown",
   "metadata": {},
   "source": [
    "## Building extended covariance matrices for EEG-based BCI"
   ]
  },
  {
   "cell_type": "markdown",
   "metadata": {},
   "source": [
    "### Loading EEG data"
   ]
  },
  {
   "cell_type": "markdown",
   "metadata": {},
   "source": [
    "The data are freely available from [GitHub](https://github.com/sylvchev/dataset-ssvep-exoskeleton/). The stimulation onsets are indicated in `event_pos` and the stimulation of `event_type` are coded as follow: 33024, 33025, 33026 and 33027 denote respectively the resting class, the 13 Hz, the 21 Hz and the 17 Hz stimulations. "
   ]
  },
  {
   "cell_type": "code",
   "execution_count": 4,
   "metadata": {
    "collapsed": true
   },
   "outputs": [],
   "source": [
    "path_data = '../data/dataset-ssvep-exoskeleton/'"
   ]
  },
  {
   "cell_type": "markdown",
   "metadata": {},
   "source": [
    "Evaluation will be done on session 1 of subject 12"
   ]
  },
  {
   "cell_type": "code",
   "execution_count": 5,
   "metadata": {
    "collapsed": true
   },
   "outputs": [],
   "source": [
    "subject_test = 7\n",
    "session = 0\n",
    "sample_rate = 256\n",
    "path_subject = path_data+'subject{0:0>2}/'.format(subject_test)"
   ]
  },
  {
   "cell_type": "markdown",
   "metadata": {},
   "source": [
    "Get subject data"
   ]
  },
  {
   "cell_type": "code",
   "execution_count": 6,
   "metadata": {
    "collapsed": true
   },
   "outputs": [],
   "source": [
    "def get_pickle_data(subject, path='../data/dataset-ssvep-exoskeleton/'):  \n",
    "    path_subject = path_data+'subject{0:0>2}/'.format(subject)\n",
    "    raw_signal = []\n",
    "    event_pos = []\n",
    "    event_type = []\n",
    "    sample_rate = 256\n",
    "    classes = ['Resting', '13Hz', '21Hz', '17Hz']\n",
    "    channels = array(['Oz','O1','O2','PO3','POz','PO7','PO8','PO4'])\n",
    "    for fn in os.listdir(path_subject):\n",
    "        if fn.endswith('.pz'):\n",
    "            with gzip.open(path_subject+fn, 'rb') as f:\n",
    "                o = pickle.load(f, encoding='latin1')\n",
    "            raw_signal.append(o['raw_signal'].T)\n",
    "            event_pos.append(o['event_pos'].reshape((o['event_pos'].shape[0])))\n",
    "            event_type.append(o['event_type'].reshape((o['event_type'].shape[0])))\n",
    "#     nb_sess = len(raw_signal)\n",
    "#     print('\\t read {} sessions from subject {}'.format(nb_sess, subject))\n",
    "    return (raw_signal, event_type, event_pos)"
   ]
  },
  {
   "cell_type": "code",
   "execution_count": 7,
   "metadata": {},
   "outputs": [],
   "source": [
    "raw_signal, event_type, event_pos = get_pickle_data(subject=subject_test, path='../data/dataset-ssvep-exoskeleton/')"
   ]
  },
  {
   "cell_type": "code",
   "execution_count": 8,
   "metadata": {
    "collapsed": true
   },
   "outputs": [],
   "source": [
    "classes = ['Resting', '13Hz', '21Hz', '17Hz']\n",
    "channels = array(['Oz','O1','O2','PO3','POz','PO7','PO8','PO4'])"
   ]
  },
  {
   "cell_type": "markdown",
   "metadata": {},
   "source": [
    "Get session data"
   ]
  },
  {
   "cell_type": "code",
   "execution_count": 9,
   "metadata": {
    "collapsed": true
   },
   "outputs": [],
   "source": [
    "signal = raw_signal[session]\n",
    "positions = event_pos[session]\n",
    "types = event_type[session]"
   ]
  },
  {
   "cell_type": "markdown",
   "metadata": {},
   "source": [
    "Naming trials event markers"
   ]
  },
  {
   "cell_type": "code",
   "execution_count": 10,
   "metadata": {
    "collapsed": true
   },
   "outputs": [],
   "source": [
    "labels = list()\n",
    "for e in types:\n",
    "    if e == 33024: labels.append('Resting')\n",
    "    elif e == 33025: labels.append('13Hz')\n",
    "    elif e == 33026: labels.append('21Hz')\n",
    "    elif e == 33027: labels.append('17Hz')\n",
    "labels = array(labels)"
   ]
  },
  {
   "cell_type": "markdown",
   "metadata": {},
   "source": [
    "### Extended signals for spatial covariance"
   ]
  },
  {
   "cell_type": "markdown",
   "metadata": {},
   "source": [
    "In the approach proposed by [Congedo, 2013], the SSVEP signal $X \\in \\mathbb{R}^{C \\times N}$ is extended to include the filtered signal for each stimulation frequency. The extended signal $X_{\\mathrm{ext}}$ is defined as:\n",
    "\n",
    "\\begin{equation}\n",
    "X_{\\mathrm{ext}} = \t\n",
    "\\begin{bmatrix}\n",
    " X_{\\text{freq}_1}\\\\ \n",
    "\\vdots \\\\\n",
    "X_{\\text{freq}_{F}} \\\\\n",
    "\\end{bmatrix}\n",
    "\\in \\mathbb{R}^{FC \\times N} \\ ,\n",
    "\\end{equation}\n",
    "Where $C$, $N$, and $F$ are respectively the number of channels, number of samples, anf number of stimululation frequency.\n",
    "\n",
    "Thus we need to define a fonction for filtering the signal with a $5^{\\mathrm{th}}$ order bandpass Butterworth filter around the stimulation frequency."
   ]
  },
  {
   "cell_type": "code",
   "execution_count": 11,
   "metadata": {
    "collapsed": true
   },
   "outputs": [],
   "source": [
    "def butter_bandpass(signal, lowcut, highcut, fs, a=None, b=None):\n",
    "    # Descrption:\n",
    "    #    Band pass filter a signal between 2 frequecies\n",
    "    # Parameters:\n",
    "    #    - signal: array-like. n x c array with n samplesa and c variables\n",
    "    #    - lowcut and highcut: cutting frequencies in Hz\n",
    "    #    - fs: float. Sampling frequency\n",
    "    #    - a, b: Denominator (`a`) and numerator (`b`) polynomials of the IIR filter\n",
    "    if (a is None) | (b is None):\n",
    "        Rp = 3\n",
    "        Rs = 10\n",
    "        nyq = 0.5 * fs\n",
    "        low = lowcut / nyq\n",
    "        high = highcut / nyq\n",
    "        Wp = [low, high]\n",
    "        Ws = [x-(1/nyq) for x in Wp]\n",
    "        [order,Wn] = buttord(Wp,Ws,Rp,Rs)\n",
    "        b, a = butter(order, Wn, 'band')\n",
    "    filtered = filtfilt(b, a, signal, axis=1)\n",
    "    return filtered"
   ]
  },
  {
   "cell_type": "code",
   "execution_count": 12,
   "metadata": {
    "collapsed": true
   },
   "outputs": [],
   "source": [
    "def get_trials(signal, typ, pos, tlen, offset, fs):\n",
    "    # Description:\n",
    "    #   Get trials from signal based on trials makers information in typ and pos\n",
    "    # Parameters:\n",
    "    #   typ: array_like. markers type\n",
    "    #   pos: array_like. markers sample position corresponding to markers type\n",
    "    #   tlen: trial length in seconds\n",
    "    #   offset. retrieved trial offset from trial start marker\n",
    "    trials = list()\n",
    "    event_types = [33024, 33025, 33026, 33027]\n",
    "    for e, t in zip(typ, pos): \n",
    "        if (e in event_types):\n",
    "            start = t + offset*fs\n",
    "            stop = t + (offset+tlen)*fs\n",
    "            trials.append(signal[:,start:stop])\n",
    "    trials_array = np.array(trials)\n",
    "    return trials_array"
   ]
  },
  {
   "cell_type": "markdown",
   "metadata": {},
   "source": [
    "Now, we can construct the extended signal $E_{\\mathrm{ext}}$.  \n",
    "**Note:** `filter_coe` f are parameters `a` and `b` obtained from matlab processing. Set them to `None` to compute them with python's scipy `butter` function  "
   ]
  },
  {
   "cell_type": "code",
   "execution_count": 13,
   "metadata": {
    "collapsed": true
   },
   "outputs": [],
   "source": [
    "frequencies = [13., 17., 21.]\n",
    "filter_coef = [{'a':[1.0,-1.883459171625896,0.983572253981791],'b':[0.008213873009104,0,-0.008213873009104]}, \n",
    "               {'a':[1.0,-1.812573732694827,0.982661267813152],'b':[0.008669366093424,0,-0.008669366093424]}, \n",
    "               {'a':[1.0,-1.725001953692769,0.982556658907297],'b':[0.008721670546351,0,-0.008721670546351]}]\n",
    "ext_signal = empty_like(signal[0,:])    \n",
    "for f, coef in zip(frequencies, filter_coef):\n",
    "    freq_band = 0.05 if f==13 else 0.1\n",
    "    ext_signal = vstack((ext_signal, butter_bandpass(signal, lowcut=f-freq_band, \n",
    "                                                     highcut=f+freq_band, fs=256, a=coef['a'], b=coef['b'])))\n",
    "ext_signal = ext_signal[1:,:]"
   ]
  },
  {
   "cell_type": "code",
   "execution_count": 14,
   "metadata": {
    "collapsed": true
   },
   "outputs": [],
   "source": [
    "trials = get_trials(ext_signal, typ=types, pos=positions, tlen=4, offset=2, fs=256)"
   ]
  },
  {
   "cell_type": "markdown",
   "metadata": {},
   "source": [
    "## Visualization of filtered signal"
   ]
  },
  {
   "cell_type": "markdown",
   "metadata": {},
   "source": [
    "Plotting the `Oz` signal filtered at the different frequencies:"
   ]
  },
  {
   "cell_type": "code",
   "execution_count": 15,
   "metadata": {},
   "outputs": [
    {
     "name": "stdout",
     "output_type": "stream",
     "text": [
      "Resting\n"
     ]
    },
    {
     "data": {
      "image/png": "[encoded data removed]",
      "text/plain": [
       "<matplotlib.figure.Figure at 0x11283e198>"
      ]
     },
     "metadata": {},
     "output_type": "display_data"
    }
   ],
   "source": [
    "n_seconds = 4\n",
    "tr = 0\n",
    "time = linspace(0, n_seconds, n_seconds * sample_rate)\n",
    "plt.figure()\n",
    "_ = plt.plot(time.T, trials[tr, 0, :].T, label=str(frequencies[0])+' Hz')\n",
    "_ = plt.plot(time.T, trials[tr, 8, :].T, label=str(frequencies[1])+' Hz')\n",
    "_ = plt.plot(time.T, trials[tr, 16, :].T, label=str(frequencies[2])+' Hz')\n",
    "_ = plt.legend(loc='upper left')\n",
    "print(labels[tr])"
   ]
  },
  {
   "cell_type": "markdown",
   "metadata": {},
   "source": [
    "As it can be seen on this example, the subject is watching the 17Hz stimulation and the EEG activity is showing an increase activity in this frequency band as the focus is more and more focus on the blinking stimulation."
   ]
  },
  {
   "cell_type": "markdown",
   "metadata": {},
   "source": [
    "### Spatial covariance estimation"
   ]
  },
  {
   "cell_type": "markdown",
   "metadata": {},
   "source": [
    "The covariance matrices will be estimated using the Schafer shrinkage instead of Ledoit-Wolf shrinkage estimator.  \n",
    "*** Note: ***  \n",
    "The Schafer estimation was added to our local copy of pyRiemann"
   ]
  },
  {
   "cell_type": "code",
   "execution_count": 16,
   "metadata": {
    "collapsed": true
   },
   "outputs": [],
   "source": [
    "cov_trials = Covariances(estimator='shaf').transform(trials)"
   ]
  },
  {
   "cell_type": "markdown",
   "metadata": {},
   "source": [
    "Capture process in a function:"
   ]
  },
  {
   "cell_type": "code",
   "execution_count": 17,
   "metadata": {
    "collapsed": true
   },
   "outputs": [],
   "source": [
    "def get_session_cavmat(signal, positions, types):\n",
    "    labels = list()\n",
    "    for e in types:\n",
    "        if e == 33024: labels.append('Resting')\n",
    "        elif e == 33025: labels.append('13Hz')\n",
    "        elif e == 33026: labels.append('21Hz')\n",
    "        elif e == 33027: labels.append('17Hz')\n",
    "    labels = array(labels)  \n",
    "    # Construct the extended signal\n",
    "    frequencies = [13., 17., 21.]\n",
    "    filter_coef = [{'a':[1.0,-1.883459171625896,0.983572253981791],'b':[0.008213873009104,0,-0.008213873009104]}, \n",
    "                   {'a':[1.0,-1.812573732694827,0.982661267813152],'b':[0.008669366093424,0,-0.008669366093424]}, \n",
    "                   {'a':[1.0,-1.725001953692769,0.982556658907297],'b':[0.008721670546351,0,-0.008721670546351]}]\n",
    "    ext_signal = empty_like(signal[0,:])    \n",
    "    for f, coef in zip(frequencies, filter_coef):\n",
    "        freq_band = 0.05 if f==13 else 0.1\n",
    "        ext_signal = vstack((ext_signal, butter_bandpass(signal, lowcut=f-freq_band, \n",
    "                                                         highcut=f+freq_band, fs=256, a=coef['a'], b=coef['b'])))\n",
    "    ext_signal = ext_signal[1:,:]\n",
    "    trials = get_trials(ext_signal, typ=types, pos=positions, tlen=4, offset=2, fs=256)\n",
    "    cov_trials = Covariances(estimator='shaf').transform(trials)\n",
    "    return (cov_trials, labels)"
   ]
  },
  {
   "cell_type": "markdown",
   "metadata": {},
   "source": [
    "## Load covariance matrices from Matlab\n",
    "Load the covariance matrices from signal processing done in Matlab"
   ]
  },
  {
   "cell_type": "code",
   "execution_count": 18,
   "metadata": {
    "collapsed": true
   },
   "outputs": [],
   "source": [
    "data_matlab = pickle.load(open(\"../data/pycov.pickle\",'rb'), encoding='latin1')"
   ]
  },
  {
   "cell_type": "code",
   "execution_count": 19,
   "metadata": {
    "scrolled": true
   },
   "outputs": [
    {
     "data": {
      "text/plain": [
       "dict_keys(['tangents', 'labels', 'sessions', 'covmats', 'means'])"
      ]
     },
     "execution_count": 19,
     "metadata": {},
     "output_type": "execute_result"
    }
   ],
   "source": [
    "data_matlab.keys()"
   ]
  },
  {
   "cell_type": "code",
   "execution_count": 20,
   "metadata": {
    "collapsed": true
   },
   "outputs": [],
   "source": [
    "cov_matlab = data_matlab['covmats']\n",
    "sess_matlab = data_matlab['sessions']\n",
    "lab_matlab = data_matlab['labels']\n",
    "sess_trials_matlab = sess_matlab[subject_test-1]\n",
    "cov_trials_matlab = cov_matlab[subject_test-1][sess_trials_matlab==session,:,:]\n",
    "lab_trials_matlab = lab_matlab[subject_test-1][sess_trials_matlab==session]"
   ]
  },
  {
   "cell_type": "code",
   "execution_count": 21,
   "metadata": {},
   "outputs": [
    {
     "name": "stdout",
     "output_type": "stream",
     "text": [
      "size of matrices: matlab->(32, 24, 24), python->(32, 24, 24)\n"
     ]
    }
   ],
   "source": [
    "print('size of matrices: matlab->{}, python->{}'.format(cov_trials_matlab.shape, cov_trials.shape)) "
   ]
  },
  {
   "cell_type": "code",
   "execution_count": 22,
   "metadata": {
    "collapsed": true
   },
   "outputs": [],
   "source": [
    "labels_matlab = list()\n",
    "for e in lab_trials_matlab:\n",
    "    if e == 0: labels_matlab.append('Resting')\n",
    "    elif e == 1: labels_matlab.append('13Hz')\n",
    "    elif e == 2: labels_matlab.append('21Hz')\n",
    "    elif e == 3: labels_matlab.append('17Hz')\n",
    "labels_matlab = array(labels_matlab)"
   ]
  },
  {
   "cell_type": "markdown",
   "metadata": {},
   "source": [
    "## Visualize a covariace matrix for each class Python vs Matlab"
   ]
  },
  {
   "cell_type": "code",
   "execution_count": 23,
   "metadata": {
    "collapsed": true
   },
   "outputs": [],
   "source": [
    "Covmat = {'python':cov_trials, 'matlab':cov_trials_matlab}\n",
    "Labels = {'python': labels, 'matlab': labels_matlab}"
   ]
  },
  {
   "cell_type": "code",
   "execution_count": 24,
   "metadata": {},
   "outputs": [
    {
     "data": {
      "image/png": "[encoded data removed]",
      "text/plain": [
       "<matplotlib.figure.Figure at 0x10f882d30>"
      ]
     },
     "metadata": {},
     "output_type": "display_data"
    }
   ],
   "source": [
    "plt.figure(figsize=(14, 8))\n",
    "place = 1\n",
    "tr = 4\n",
    "for tool in ['python', 'matlab']:\n",
    "    for l in classes:\n",
    "        plt.subplot(2, 4, place)\n",
    "        plt.imshow(Covmat[tool][Labels[tool] == l, :, :][tr, :, :], cmap=plt.get_cmap('RdPu'), interpolation='nearest')\n",
    "        _ = plt.title(l)\n",
    "        place += 1"
   ]
  },
  {
   "cell_type": "markdown",
   "metadata": {},
   "source": [
    "Top row: Python processing. Bottom row: Matlab processing"
   ]
  },
  {
   "cell_type": "markdown",
   "metadata": {},
   "source": [
    "## Get the sum of distance between trials of the same class"
   ]
  },
  {
   "cell_type": "code",
   "execution_count": 25,
   "metadata": {
    "collapsed": true,
    "scrolled": true
   },
   "outputs": [],
   "source": [
    "intraclass_distance = {'python':0, 'matlab':0}\n",
    "for tool in ['python', 'matlab']:\n",
    "    intraclass_distance[tool] = 0\n",
    "    for cl in classes:\n",
    "        for tr_i in range(0,8):\n",
    "            for tr_j in range(tr_i,8):\n",
    "                intraclass_distance[tool] += distance.distance_riemann(Covmat[tool][Labels[tool] == cl,:,:][tr_i,:,:], Covmat[tool][Labels[tool] == cl,:,:][tr_j,:,:])"
   ]
  },
  {
   "cell_type": "code",
   "execution_count": 26,
   "metadata": {},
   "outputs": [
    {
     "name": "stdout",
     "output_type": "stream",
     "text": [
      "intraclass distances: Python --> 926.6354331304565, Matlab --> 926.6373548407973\n"
     ]
    }
   ],
   "source": [
    "print(\"intraclass distances: Python --> {}, Matlab --> {}\".format(intraclass_distance['python'], intraclass_distance['matlab']))"
   ]
  },
  {
   "cell_type": "markdown",
   "metadata": {},
   "source": [
    "## Distance between class means "
   ]
  },
  {
   "cell_type": "code",
   "execution_count": 27,
   "metadata": {
    "collapsed": true
   },
   "outputs": [],
   "source": [
    "# Get means of all classes\n",
    "Means = defaultdict(defaultdict);\n",
    "for tool in ['python', 'matlab']:\n",
    "    for cl in classes:\n",
    "        Means[tool][cl] = mean.mean_riemann(Covmat[tool][Labels[tool]==cl,:,:])"
   ]
  },
  {
   "cell_type": "markdown",
   "metadata": {},
   "source": [
    "### Get distances between class means\n",
    "Show interclass distances in a matrix, for python, then for matlab"
   ]
  },
  {
   "cell_type": "code",
   "execution_count": 28,
   "metadata": {
    "collapsed": true
   },
   "outputs": [],
   "source": [
    "intratool_distance = defaultdict(lambda: np.zeros((len(classes),len(classes))))\n",
    "for tool in ['python', 'matlab']:\n",
    "    for i, cl_i in enumerate(classes):\n",
    "        for j, cl_j in enumerate(classes):\n",
    "            intratool_distance[tool][i,j] = distance.distance_riemann(Means[tool][cl_i],\n",
    "                                                                     Means[tool][cl_j])"
   ]
  },
  {
   "cell_type": "code",
   "execution_count": 29,
   "metadata": {},
   "outputs": [
    {
     "name": "stdout",
     "output_type": "stream",
     "text": [
      "[[  2.42692315e-14   4.72952032e+00   4.42775569e+00   4.62765406e+00]\n",
      " [  4.72952032e+00   3.14540114e-14   5.56644858e+00   5.60368911e+00]\n",
      " [  4.42775569e+00   5.56644858e+00   4.42596226e-14   5.25338183e+00]\n",
      " [  4.62765406e+00   5.60368911e+00   5.25338183e+00   8.15725365e-14]]\n"
     ]
    }
   ],
   "source": [
    "print(intratool_distance['python'])"
   ]
  },
  {
   "cell_type": "code",
   "execution_count": 30,
   "metadata": {},
   "outputs": [
    {
     "name": "stdout",
     "output_type": "stream",
     "text": [
      "[[  2.29609582e-14   4.72951982e+00   4.42775496e+00   4.62765304e+00]\n",
      " [  4.72951982e+00   2.71473935e-14   5.56644869e+00   5.60368883e+00]\n",
      " [  4.42775496e+00   5.56644869e+00   3.90686520e-14   5.25338159e+00]\n",
      " [  4.62765304e+00   5.60368883e+00   5.25338159e+00   9.55490599e-14]]\n"
     ]
    }
   ],
   "source": [
    "print(intratool_distance['matlab'])"
   ]
  },
  {
   "cell_type": "markdown",
   "metadata": {},
   "source": [
    "### Get distance between python and matlab means of same class"
   ]
  },
  {
   "cell_type": "code",
   "execution_count": 31,
   "metadata": {
    "collapsed": true
   },
   "outputs": [],
   "source": [
    "inter_tool_inter_class = list()\n",
    "for cl in classes:\n",
    "    inter_tool_inter_class.append(distance.distance_riemann(Means['python'][cl], Means['matlab'][cl]))\n",
    "    "
   ]
  },
  {
   "cell_type": "code",
   "execution_count": 32,
   "metadata": {},
   "outputs": [
    {
     "name": "stdout",
     "output_type": "stream",
     "text": [
      "[2.2961416538611336e-06, 3.9684676241571005e-06, 3.3049313792470667e-06, 4.4959986019448044e-06]\n"
     ]
    }
   ],
   "source": [
    "print(inter_tool_inter_class)"
   ]
  },
  {
   "cell_type": "markdown",
   "metadata": {},
   "source": [
    "## Compare classification performance\n",
    "Compare MDM performance using AIR"
   ]
  },
  {
   "cell_type": "code",
   "execution_count": 33,
   "metadata": {
    "collapsed": true
   },
   "outputs": [],
   "source": [
    "# Reaoder python matrix and labels as Matlab\n",
    "tmp = Labels['python'].copy()\n",
    "Covmat['python'] = Covmat['python'][np.concatenate((np.where(tmp=='Resting')[0],np.where(tmp=='13Hz')[0],np.where(tmp=='21Hz')[0],np.where(tmp=='17Hz')[0])),:,:]\n",
    "Labels['python'] = Labels['python'][np.concatenate((np.where(tmp=='Resting')[0],np.where(tmp=='13Hz')[0],np.where(tmp=='21Hz')[0],np.where(tmp=='17Hz')[0]))]"
   ]
  },
  {
   "cell_type": "code",
   "execution_count": 34,
   "metadata": {},
   "outputs": [
    {
     "name": "stdout",
     "output_type": "stream",
     "text": [
      "python mean accuracy: 0.90625\n",
      "matlab mean accuracy: 0.90625\n"
     ]
    }
   ],
   "source": [
    "accuracy = defaultdict()\n",
    "mdm = classification.MDM()\n",
    "for tool in ['python', 'matlab']:\n",
    "    accuracy[tool] = cross_val_score(mdm, Covmat[tool], Labels[tool], cv=4)\n",
    "    print('{} mean accuracy: {}'.format(tool, accuracy[tool].mean()))"
   ]
  },
  {
   "cell_type": "code",
   "execution_count": 35,
   "metadata": {
    "scrolled": true
   },
   "outputs": [
    {
     "data": {
      "text/plain": [
       "array([ 0.75 ,  0.875,  1.   ,  1.   ])"
      ]
     },
     "execution_count": 35,
     "metadata": {},
     "output_type": "execute_result"
    }
   ],
   "source": [
    "accuracy['matlab']"
   ]
  },
  {
   "cell_type": "code",
   "execution_count": 36,
   "metadata": {},
   "outputs": [
    {
     "data": {
      "text/plain": [
       "array([ 0.75 ,  0.875,  1.   ,  1.   ])"
      ]
     },
     "execution_count": 36,
     "metadata": {},
     "output_type": "execute_result"
    }
   ],
   "source": [
    "accuracy['python']"
   ]
  },
  {
   "cell_type": "markdown",
   "metadata": {},
   "source": [
    "# Classification performance on entire data set"
   ]
  },
  {
   "cell_type": "code",
   "execution_count": 37,
   "metadata": {
    "collapsed": true
   },
   "outputs": [],
   "source": [
    "accuracy_full_set = defaultdict(lambda: list())"
   ]
  },
  {
   "cell_type": "markdown",
   "metadata": {},
   "source": [
    "## Python"
   ]
  },
  {
   "cell_type": "code",
   "execution_count": 38,
   "metadata": {},
   "outputs": [
    {
     "name": "stdout",
     "output_type": "stream",
     "text": [
      "Subject 1: 0.734375\n",
      "Subject 2: 0.796875\n",
      "Subject 3: 0.859375\n",
      "Subject 4: 0.875\n",
      "Subject 5: 0.6875\n",
      "Subject 6: 0.859375\n",
      "Subject 7: 0.8854166666666666\n",
      "Subject 8: 0.8645833333333334\n",
      "Subject 9: 0.703125\n",
      "Subject 10: 0.7291666666666666\n",
      "Subject 11: 0.6015625\n",
      "Subject 12: 0.96875\n"
     ]
    }
   ],
   "source": [
    "for subject in range(1,13):\n",
    "# for subject in [7]:\n",
    "    raw_signal, event_type, event_pos = get_pickle_data(subject=subject, path='../data/dataset-ssvep-exoskeleton/')\n",
    "    nb_sess = len(raw_signal)\n",
    "    labels_list = list()\n",
    "    cov_list = list()\n",
    "    for session in range(nb_sess):\n",
    "        cov_trials, labels = get_session_cavmat(signal=raw_signal[session], positions=event_pos[session], types=event_type[session])\n",
    "        # Reaoder python matrix and labels as in Matlab data\n",
    "        tmp = labels.copy()\n",
    "        cov_trials = cov_trials[np.concatenate((np.where(tmp=='Resting')[0],np.where(tmp=='13Hz')[0],np.where(tmp=='21Hz')[0],np.where(tmp=='17Hz')[0])),:,:]\n",
    "        labels = labels[np.concatenate((np.where(tmp=='Resting')[0],np.where(tmp=='13Hz')[0],np.where(tmp=='21Hz')[0],np.where(tmp=='17Hz')[0]))]\n",
    "        cov_list.append(cov_trials)\n",
    "        labels_list.append(labels)\n",
    "    covpy = np.concatenate(cov_list,axis=0)\n",
    "    labpy = np.concatenate(labels_list)\n",
    "    mdm = classification.MDM()\n",
    "    accuracy = cross_val_score(mdm, covpy, labpy, n_jobs=-1,\n",
    "                               groups=np.repeat(np.linspace(0,nb_sess-1,nb_sess),32), cv=nb_sess)\n",
    "    # accuracy = cross_val_score(mdm, covpy, labpy, cv=nb_sess)\n",
    "    print('Subject {}: {}'.format(subject, accuracy.mean()))\n",
    "    accuracy_full_set['python'].append(accuracy)"
   ]
  },
  {
   "cell_type": "markdown",
   "metadata": {},
   "source": [
    "## Matlab"
   ]
  },
  {
   "cell_type": "code",
   "execution_count": 39,
   "metadata": {},
   "outputs": [
    {
     "name": "stdout",
     "output_type": "stream",
     "text": [
      "Subject 1: 0.734375\n",
      "Subject 2: 0.796875\n",
      "Subject 3: 0.859375\n",
      "Subject 4: 0.875\n",
      "Subject 5: 0.6875\n",
      "Subject 6: 0.859375\n",
      "Subject 7: 0.8854166666666666\n",
      "Subject 8: 0.921875\n",
      "Subject 9: 0.703125\n",
      "Subject 10: 0.8046875\n",
      "Subject 11: 0.65625\n",
      "Subject 12: 0.96875\n"
     ]
    }
   ],
   "source": [
    "cov_matlab = data_matlab['covmats']\n",
    "sess_matlab = data_matlab['sessions']\n",
    "lab_matlab = data_matlab['labels']\n",
    "for subject in range(1,13):\n",
    "# for subject in [7]:\n",
    "    sess_trials_matlab = sess_matlab[subject-1]\n",
    "    covmatlab = cov_matlab[subject-1]\n",
    "    lab_trials_matlab = lab_matlab[subject-1]\n",
    "    labels_matlab = list()\n",
    "    for e in lab_trials_matlab:\n",
    "        if e == 0: labels_matlab.append('Resting')\n",
    "        elif e == 1: labels_matlab.append('13Hz')\n",
    "        elif e == 2: labels_matlab.append('21Hz')\n",
    "        elif e == 3: labels_matlab.append('17Hz')\n",
    "    labmatlab = array(labels_matlab)\n",
    "    mdm = classification.MDM()\n",
    "    accuracy = cross_val_score(mdm, covmatlab, labmatlab, \n",
    "                               groups=sess_trials_matlab, cv=len(np.unique(sess_trials_matlab)))\n",
    "    # accuracy = cross_val_score(mdm, covmatlab, labmatlab, cv=nb_sess)\n",
    "    print('Subject {}: {}'.format(subject, accuracy.mean()))\n",
    "    accuracy_full_set['matlab'].append(accuracy)"
   ]
  },
  {
   "cell_type": "code",
   "execution_count": 40,
   "metadata": {},
   "outputs": [
    {
     "data": {
      "text/plain": [
       "[array([ 0.8125 ,  0.65625]),\n",
       " array([ 0.78125,  0.8125 ]),\n",
       " array([ 0.90625,  0.8125 ]),\n",
       " array([ 0.84375,  0.90625]),\n",
       " array([ 0.71875,  0.65625]),\n",
       " array([ 0.84375,  0.875  ]),\n",
       " array([ 0.90625,  0.90625,  0.84375]),\n",
       " array([ 0.6875 ,  0.90625,  1.     ]),\n",
       " array([ 0.6875 ,  0.71875]),\n",
       " array([ 0.4375 ,  0.875  ,  0.8125 ,  0.84375,  0.75   ,  0.65625]),\n",
       " array([ 0.6875 ,  0.34375,  0.6875 ,  0.6875 ]),\n",
       " array([ 0.96875,  0.96875,  0.96875,  0.96875,  0.96875])]"
      ]
     },
     "execution_count": 40,
     "metadata": {},
     "output_type": "execute_result"
    }
   ],
   "source": [
    "accuracy_full_set['python']"
   ]
  },
  {
   "cell_type": "code",
   "execution_count": 41,
   "metadata": {},
   "outputs": [
    {
     "data": {
      "text/plain": [
       "[array([ 0.8125 ,  0.65625]),\n",
       " array([ 0.78125,  0.8125 ]),\n",
       " array([ 0.90625,  0.8125 ]),\n",
       " array([ 0.84375,  0.90625]),\n",
       " array([ 0.71875,  0.65625]),\n",
       " array([ 0.84375,  0.875  ]),\n",
       " array([ 0.90625,  0.90625,  0.84375]),\n",
       " array([ 0.875  ,  0.96875]),\n",
       " array([ 0.6875 ,  0.71875]),\n",
       " array([ 0.90625,  0.84375,  0.78125,  0.6875 ]),\n",
       " array([ 0.625 ,  0.6875]),\n",
       " array([ 0.96875,  0.96875,  0.96875,  0.96875,  0.96875])]"
      ]
     },
     "execution_count": 41,
     "metadata": {},
     "output_type": "execute_result"
    }
   ],
   "source": [
    "accuracy_full_set['matlab']"
   ]
  },
  {
   "cell_type": "markdown",
   "metadata": {},
   "source": [
    "**Remarks**    \n",
    "Subjects 8, 10, and 11 do not have the same number of sessions!"
   ]
  },
  {
   "cell_type": "code",
   "execution_count": null,
   "metadata": {
    "collapsed": true
   },
   "outputs": [],
   "source": []
  }
 ],
 "metadata": {
  "kernelspec": {
   "display_name": "Python 2",
   "language": "python",
   "name": "python2"
  },
  "language_info": {
   "codemirror_mode": {
    "name": "ipython",
    "version": 3
   },
   "file_extension": ".py",
   "mimetype": "text/x-python",
   "name": "python",
   "nbconvert_exporter": "python",
   "pygments_lexer": "ipython3",
   "version": "3.6.2"
  }
 },
 "nbformat": 4,
 "nbformat_minor": 1
}
